{
 "cells": [
  {
   "cell_type": "code",
   "execution_count": 1,
   "id": "000868cf",
   "metadata": {},
   "outputs": [],
   "source": [
    "import numpy as np\n",
    "import pandas as pd"
   ]
  },
  {
   "cell_type": "code",
   "execution_count": 2,
   "id": "d8862cfa",
   "metadata": {},
   "outputs": [],
   "source": [
    "DATA_PATH = '../data/38Q31TzlO-{}/npz_data/data.npz'\n",
    "PARAMS_PATH = '../data/38Q31TzlO-{}/Minamo_Parameters-Wall2D.txt'\n",
    "\n",
    "\n",
    "def load_data(id_simulation):\n",
    "\n",
    "    data = np.load(DATA_PATH.format(id_simulation))\n",
    "    data = {k: data[k] for k in data.files}\n",
    "    \n",
    "    # Chosen discrete time steps\n",
    "    time = data['time']\n",
    "    delta = time.copy()\n",
    "    delta[1:] = time[1:] - time[:-1]\n",
    "    \n",
    "    # Unused\n",
    "    T_top = data['T_top']\n",
    "    x = data['x']\n",
    "    y = data['y']\n",
    "    temperatures = data['temperatures']\n",
    "    \n",
    "    # Input data\n",
    "    output = np.stack((data['laser_position_x'], data['laser_power']), axis=1)\n",
    "    \n",
    "    # Target data\n",
    "    target = np.stack([data['T{}'.format(i + 1)] for i in range(6)], axis=1)\n",
    "\n",
    "    return time, delta, output, target\n",
    "\n",
    "\n",
    "def load_params(id_simulation):\n",
    "\n",
    "    with open(PARAMS_PATH.format(id_simulation)) as params_file:\n",
    "        lines = params_file.read().splitlines()\n",
    "        power = lines[0].split(' = ')[1]\n",
    "        break_time = lines[1].split(' = ')[1]\n",
    "        \n",
    "    return power, break_time"
   ]
  },
  {
   "cell_type": "code",
   "execution_count": 3,
   "id": "c44995fd",
   "metadata": {},
   "outputs": [],
   "source": [
    "time, delta, output, target = load_data(1)\n",
    "power, break_time = load_params(1)"
   ]
  },
  {
   "cell_type": "code",
   "execution_count": 4,
   "id": "948516a7",
   "metadata": {},
   "outputs": [
    {
     "data": {
      "text/plain": [
       "((1384,), (1384,), (1384, 2), (1384, 6))"
      ]
     },
     "execution_count": 4,
     "metadata": {},
     "output_type": "execute_result"
    }
   ],
   "source": [
    "time.shape, delta.shape, output.shape, target.shape"
   ]
  },
  {
   "cell_type": "code",
   "execution_count": 5,
   "id": "f52c443f",
   "metadata": {},
   "outputs": [
    {
     "data": {
      "text/plain": [
       "('50.0 ', '0.0 ')"
      ]
     },
     "execution_count": 5,
     "metadata": {},
     "output_type": "execute_result"
    }
   ],
   "source": [
    "power, break_time"
   ]
  }
 ],
 "metadata": {
  "kernelspec": {
   "display_name": "Python 3 (ipykernel)",
   "language": "python",
   "name": "python3"
  },
  "language_info": {
   "codemirror_mode": {
    "name": "ipython",
    "version": 3
   },
   "file_extension": ".py",
   "mimetype": "text/x-python",
   "name": "python",
   "nbconvert_exporter": "python",
   "pygments_lexer": "ipython3",
   "version": "3.9.6"
  }
 },
 "nbformat": 4,
 "nbformat_minor": 5
}
