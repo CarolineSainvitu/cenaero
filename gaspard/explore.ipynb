{
 "cells": [
  {
   "cell_type": "markdown",
   "id": "26368bf6",
   "metadata": {},
   "source": [
    "# Cenaero"
   ]
  },
  {
   "cell_type": "code",
   "execution_count": 10,
   "id": "000868cf",
   "metadata": {},
   "outputs": [],
   "source": [
    "import numpy as np"
   ]
  },
  {
   "cell_type": "code",
   "execution_count": 11,
   "id": "54b4751a",
   "metadata": {},
   "outputs": [],
   "source": [
    "# Constants\n",
    "\n",
    "NUM_SEQUENCES = 121\n",
    "DATA_PATH = '../data/38Q31TzlO-{}/npz_data/data.npz'\n",
    "PARAMS_PATH = '../data/38Q31TzlO-{}/Minamo_Parameters-Wall2D.txt'"
   ]
  },
  {
   "cell_type": "code",
   "execution_count": 16,
   "id": "d8862cfa",
   "metadata": {},
   "outputs": [],
   "source": [
    "# Data loading and parsing methods\n",
    "\n",
    "def load_data(simulation_ids, flatten_sequences=False):\n",
    "    \n",
    "    inputs, targets = [], []\n",
    "    \n",
    "    for simulation_id in simulation_ids:\n",
    "\n",
    "        data = np.load(DATA_PATH.format(simulation_id))\n",
    "\n",
    "        # Unused\n",
    "        # T_top = data['T_top']\n",
    "        # x = data['x']\n",
    "        # y = data['y']\n",
    "        # temperatures = data['temperatures']\n",
    "\n",
    "        # Input data\n",
    "        time = data['time']\n",
    "        delta = time.copy()\n",
    "        delta[1:] = time[1:] - time[:-1]\n",
    "        laser_position = data['laser_position_x']\n",
    "        laser_power = data['laser_power']\n",
    "        input = np.stack([time, delta, laser_position, laser_power], axis=1)\n",
    "\n",
    "        # Target data\n",
    "        target = np.stack([data['T{}'.format(i + 1)] for i in range(6)], axis=1)\n",
    "\n",
    "        inputs.append(input)\n",
    "        targets.append(target)\n",
    "    \n",
    "    if flatten_sequences:\n",
    "        inputs = np.concatenate(inputs, axis=0)\n",
    "        targets = np.concatenate(targets, axis=0)\n",
    "        \n",
    "    else:\n",
    "        max_len = max(input.shape[0] for input in inputs)\n",
    "        \n",
    "        for i, input in enumerate(inputs):\n",
    "            inputs[i] = np.pad(input, [(0, max_len - input.shape[0]), (0, 0)])\n",
    "        for i, target in enumerate(targets):\n",
    "            targets[i] = np.pad(target, [(0, max_len - target.shape[0]), (0, 0)])\n",
    "        \n",
    "        inputs = np.stack(inputs, axis=1)\n",
    "        targets = np.stack(targets, axis=1)\n",
    "    \n",
    "    return inputs, targets\n",
    "\n",
    "\n",
    "def load_params(simulation_ids):\n",
    "    \n",
    "    powers, break_times = [], []\n",
    "\n",
    "    for simulation_id in simulation_ids:\n",
    "\n",
    "        with open(PARAMS_PATH.format(simulation_id)) as params_file:\n",
    "            lines = params_file.read().splitlines()\n",
    "            powers.append(lines[0].split(' = ')[1])\n",
    "            break_times.append(lines[1].split(' = ')[1])\n",
    "            \n",
    "    powers = np.array(powers)\n",
    "    break_times = np.array(break_times)\n",
    "\n",
    "    return powers, break_times"
   ]
  },
  {
   "cell_type": "code",
   "execution_count": 19,
   "id": "c44995fd",
   "metadata": {},
   "outputs": [
    {
     "name": "stdout",
     "output_type": "stream",
     "text": [
      "inputs: (1384, 8, 4)\n",
      "targets: (1384, 8, 6)\n",
      "powers: (8,)\n",
      "break_times: (8,)\n"
     ]
    }
   ],
   "source": [
    "# Preview of the data\n",
    "\n",
    "inputs, targets = load_data(range(1, 8 + 1), flatten_sequences=False)\n",
    "powers, break_times = load_params(range(1, 8 + 1))\n",
    "\n",
    "print('inputs:', inputs.shape)\n",
    "print('targets:', targets.shape)\n",
    "\n",
    "print('powers:', powers.shape)\n",
    "print('break_times:', break_times.shape)"
   ]
  },
  {
   "cell_type": "markdown",
   "id": "1ac4df03",
   "metadata": {},
   "source": [
    "## Train, test and validation split"
   ]
  },
  {
   "cell_type": "code",
   "execution_count": 21,
   "id": "79af501a",
   "metadata": {},
   "outputs": [],
   "source": [
    "np.random.seed(20210831)\n",
    "permutation = np.random.permutation(np.arange(1, NUM_SEQUENCES + 1))\n",
    "first_split = int(0.5 * NUM_SEQUENCES)\n",
    "second_split = int(0.75 * NUM_SEQUENCES)\n",
    "train_sequence_ids = permutation[:first_split]\n",
    "eval_sequence_ids = permutation[first_split:second_split]\n",
    "test_sequence_ids = permutation[second_split:]"
   ]
  },
  {
   "cell_type": "code",
   "execution_count": 22,
   "id": "4cf475c2",
   "metadata": {},
   "outputs": [],
   "source": [
    "train_inputs, train_targets = load_data(train_sequence_ids, flatten_sequences=True)\n",
    "eval_inputs, eval_targets = load_data(eval_sequence_ids, flatten_sequences=True)\n",
    "test_inputs, test_targets = load_data(test_sequence_ids, flatten_sequences=True)"
   ]
  }
 ],
 "metadata": {
  "kernelspec": {
   "display_name": "Python 3 (ipykernel)",
   "language": "python",
   "name": "python3"
  },
  "language_info": {
   "codemirror_mode": {
    "name": "ipython",
    "version": 3
   },
   "file_extension": ".py",
   "mimetype": "text/x-python",
   "name": "python",
   "nbconvert_exporter": "python",
   "pygments_lexer": "ipython3",
   "version": "3.9.6"
  }
 },
 "nbformat": 4,
 "nbformat_minor": 5
}
