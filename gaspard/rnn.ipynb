{
 "cells": [
  {
   "cell_type": "code",
   "execution_count": null,
   "id": "1ecfcc24",
   "metadata": {},
   "outputs": [],
   "source": [
    "import os\n",
    "import utils\n",
    "\n",
    "import torch\n",
    "import torch.optim as optim\n",
    "\n",
    "from rnn import RNN, masked_mse_loss, train_rnn"
   ]
  },
  {
   "cell_type": "code",
   "execution_count": null,
   "id": "d247e8d3",
   "metadata": {},
   "outputs": [],
   "source": [
    "NUM_SEQUENCES = 121\n",
    "# (Delta_t, P_t, x_t)\n",
    "BATCH_SIZE = 16\n",
    "HIDDEN_SIZE = 256\n",
    "NUM_LAYERS = 3\n",
    "LEARNING_RATE = 1e-3\n",
    "NUM_EPOCH_CONVERGENCE = 5"
   ]
  },
  {
   "cell_type": "code",
   "execution_count": null,
   "id": "6f8da664",
   "metadata": {
    "scrolled": true
   },
   "outputs": [],
   "source": [
    "train_dataset, valid_dataset, test_dataset = utils.train_valid_test_split(\n",
    "    range(1, NUM_SEQUENCES + 1), recurrent=True, train_ratio=0.7)\n",
    "\n",
    "train_inputs, train_targets, train_lengths = train_dataset\n",
    "valid_inputs, valid_targets, valid_lengths = valid_dataset\n",
    "test_inputs, test_targets, test_lengths = test_dataset\n",
    "\n",
    "# Standardization statistics\n",
    "train_max_length = train_lengths.max().item()\n",
    "num_train = train_inputs.size(1)\n",
    "input_size = train_inputs.size(-1)\n",
    "output_size = train_targets.size(-1)\n",
    "timesteps = torch.arange(train_max_length).expand(num_train, train_max_length)\n",
    "masks = (timesteps < train_lengths.unsqueeze(1)).T.unsqueeze(-1)\n",
    "\n",
    "train_inputs_flatten = train_inputs[masks.expand(-1, -1, input_size)]\n",
    "train_inputs_flatten = train_inputs_flatten.view(-1, input_size)\n",
    "train_targets_flatten = train_targets[masks.expand(-1, -1, output_size)]\n",
    "train_targets_flatten = train_targets_flatten.view(-1, output_size)\n",
    "\n",
    "mean_inputs = train_inputs_flatten.mean(dim=0)\n",
    "std_inputs = train_inputs_flatten.std(dim=0)\n",
    "mean_targets = train_targets_flatten.mean(dim=0)\n",
    "std_targets = train_targets_flatten.std(dim=0)\n",
    "\n",
    "rnn = RNN(\n",
    "    cell='gru',\n",
    "    input_size=train_inputs.size(2),\n",
    "    hidden_size=HIDDEN_SIZE,\n",
    "    output_size=train_targets.size(2),\n",
    "    num_layers=NUM_LAYERS,\n",
    "    mean_inputs=mean_inputs,\n",
    "    std_inputs=std_inputs,\n",
    "    mean_targets=mean_targets,\n",
    "    std_targets=std_targets)\n",
    "\n",
    "opt = optim.Adam(rnn.parameters(), lr=LEARNING_RATE)\n",
    "\n",
    "train_rnn(rnn, opt, train_inputs, train_targets, train_lengths,\n",
    "    valid_inputs, valid_targets, valid_lengths, BATCH_SIZE,\n",
    "    NUM_EPOCH_CONVERGENCE)"
   ]
  },
  {
   "cell_type": "code",
   "execution_count": null,
   "id": "830c644e",
   "metadata": {},
   "outputs": [],
   "source": [
    "with torch.no_grad():\n",
    "    test_preds, _ = rnn(test_inputs)\n",
    "\n",
    "utils.show_sample_sequence(\n",
    "    test_targets, test_preds, test_lengths, recurrent=True)\n",
    "\n",
    "mse_loss = masked_mse_loss(test_preds, test_targets, test_lengths,\n",
    "                           test_lengths.max().item())\n",
    "print('Test MSE Loss: {:,.4f}'.format(mse_loss.item()))\n",
    "\n",
    "os.makedirs('../weights/', exist_ok=True)\n",
    "weights_file = '../weights/rnn-L{}H{}.pth'.format(NUM_LAYERS, HIDDEN_SIZE)\n",
    "torch.save(rnn.state_dict(), weights_file)"
   ]
  },
  {
   "cell_type": "markdown",
   "id": "b574c9fc",
   "metadata": {},
   "source": [
    "Caution: The RNN is trained to predict only one step every 20 time steps\n",
    "Reminder: The MLP without data standardization was 90 on the test set\n",
    "Reminder: The MLP with data standardization was 30 on the test set"
   ]
  },
  {
   "cell_type": "code",
   "execution_count": null,
   "id": "439aa20e",
   "metadata": {},
   "outputs": [],
   "source": [
    "utils.show_sample_sequence(\n",
    "    test_targets, test_preds, test_lengths, recurrent=True)"
   ]
  }
 ],
 "metadata": {
  "kernelspec": {
   "display_name": "Python 3 (ipykernel)",
   "language": "python",
   "name": "python3"
  },
  "language_info": {
   "codemirror_mode": {
    "name": "ipython",
    "version": 3
   },
   "file_extension": ".py",
   "mimetype": "text/x-python",
   "name": "python",
   "nbconvert_exporter": "python",
   "pygments_lexer": "ipython3",
   "version": "3.9.6"
  }
 },
 "nbformat": 4,
 "nbformat_minor": 5
}
