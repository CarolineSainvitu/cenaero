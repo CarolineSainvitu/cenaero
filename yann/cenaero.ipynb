{
 "cells": [
  {
   "cell_type": "markdown",
   "id": "dfc13f8c",
   "metadata": {},
   "source": [
    "# Cenaero"
   ]
  },
  {
   "cell_type": "code",
   "execution_count": 1,
   "id": "7b067bab",
   "metadata": {},
   "outputs": [],
   "source": [
    "import numpy as np"
   ]
  },
  {
   "cell_type": "code",
   "execution_count": 2,
   "id": "f386b0f1",
   "metadata": {},
   "outputs": [],
   "source": [
    "# Constants\n",
    "\n",
    "NUM_SEQUENCES = 121\n",
    "DATA_PATH = '../data/38Q31TzlO-{}/npz_data/data.npz'\n",
    "PARAMS_PATH = '../data/38Q31TzlO-{}/Minamo_Parameters-Wall2D.txt'"
   ]
  },
  {
   "cell_type": "code",
   "execution_count": 3,
   "id": "365b7d71",
   "metadata": {},
   "outputs": [],
   "source": [
    "def load_data(simulation_ids, flatten_sequences=False):\n",
    "    \n",
    "    inputs, targets = [], []\n",
    "    \n",
    "    for simulation_id in simulation_ids:\n",
    "\n",
    "        data = np.load(DATA_PATH.format(simulation_id))\n",
    "\n",
    "        # Unused\n",
    "        # T_top = data['T_top']\n",
    "        # x = data['x']\n",
    "        # y = data['y']\n",
    "        # temperatures = data['temperatures']\n",
    "        \n",
    "        # Parse parameters\n",
    "        with open(PARAMS_PATH.format(simulation_id)) as params_file:\n",
    "            lines = params_file.read().splitlines()\n",
    "            power = lines[0].split(' = ')[1]\n",
    "            break_time = lines[1].split(' = ')[1]\n",
    "\n",
    "        # Input data\n",
    "        time = data['time']\n",
    "        delta = time.copy()\n",
    "        delta[1:] = time[1:] - time[:-1]\n",
    "        laser_position = data['laser_position_x']\n",
    "        laser_power = data['laser_power']\n",
    "        power = np.full(laser_power.shape, power)\n",
    "        break_time = np.full(laser_power.shape, break_time)\n",
    "        input = np.stack([time, delta, laser_position, laser_power, power, break_time], axis=1)\n",
    "\n",
    "        # Target data\n",
    "        target = np.stack([data['T{}'.format(i + 1)] for i in range(6)], axis=1)\n",
    "\n",
    "        inputs.append(input)\n",
    "        targets.append(target)\n",
    "    \n",
    "    if flatten_sequences:\n",
    "        inputs = np.concatenate(inputs, axis=0)\n",
    "        targets = np.concatenate(targets, axis=0)\n",
    "        \n",
    "    else:\n",
    "        max_len = max(input.shape[0] for input in inputs)\n",
    "        \n",
    "        for i, input in enumerate(inputs):\n",
    "            inputs[i] = np.pad(input, [(0, max_len - input.shape[0]), (0, 0)])\n",
    "        for i, target in enumerate(targets):\n",
    "            targets[i] = np.pad(target, [(0, max_len - target.shape[0]), (0, 0)])\n",
    "        \n",
    "        inputs = np.stack(inputs, axis=1)\n",
    "        targets = np.stack(targets, axis=1)\n",
    "    \n",
    "    return inputs, targets"
   ]
  },
  {
   "cell_type": "code",
   "execution_count": 4,
   "id": "c92ec290",
   "metadata": {},
   "outputs": [
    {
     "name": "stdout",
     "output_type": "stream",
     "text": [
      "inputs: (1384, 8, 4)\n",
      "targets: (1384, 8, 6)\n",
      "powers: (8,)\n",
      "break_times: (8,)\n"
     ]
    }
   ],
   "source": [
    "# Preview of the data\n",
    "\n",
    "inputs, targets = load_data(range(1, 8 + 1), flatten_sequences=False)\n",
    "\n",
    "print('inputs:', inputs.shape)\n",
    "print('targets:', targets.shape)"
   ]
  },
  {
   "cell_type": "markdown",
   "id": "3e668fbf",
   "metadata": {},
   "source": [
    "## Train, test and validation split"
   ]
  },
  {
   "cell_type": "code",
   "execution_count": 5,
   "id": "c4866d6e",
   "metadata": {},
   "outputs": [],
   "source": [
    "np.random.seed(20210831)\n",
    "permutation = np.random.permutation(np.arange(1, NUM_SEQUENCES + 1))\n",
    "first_split = int(0.5 * NUM_SEQUENCES)\n",
    "second_split = int(0.75 * NUM_SEQUENCES)\n",
    "train_sequence_ids = permutation[:first_split]\n",
    "eval_sequence_ids = permutation[first_split:second_split]\n",
    "test_sequence_ids = permutation[second_split:]"
   ]
  },
  {
   "cell_type": "code",
   "execution_count": 6,
   "id": "aadb99b3",
   "metadata": {},
   "outputs": [],
   "source": [
    "train_inputs, train_targets = load_data(train_sequence_ids, flatten_sequences=True)\n",
    "eval_inputs, eval_targets = load_data(eval_sequence_ids, flatten_sequences=True)\n",
    "test_inputs, test_targets = load_data(test_sequence_ids, flatten_sequences=True)"
   ]
  },
  {
   "cell_type": "code",
   "execution_count": 30,
   "id": "fae20097",
   "metadata": {},
   "outputs": [
    {
     "name": "stdout",
     "output_type": "stream",
     "text": [
      "213162.6624341536\n"
     ]
    }
   ],
   "source": [
    "# Decision Tree training\n",
    "from sklearn.tree import DecisionTreeRegressor\n",
    "\n",
    "dt = DecisionTreeRegressor(max_depth=8)\n",
    "dt.fit(train_inputs, train_targets)\n",
    "\n",
    "# Decision Tree evaluation\n",
    "eval_preds = dt.predict(eval_inputs)\n",
    "MSE = ((eval_preds - eval_targets) ** 2).sum() / eval_targets.shape[0]\n",
    "print(MSE)"
   ]
  },
  {
   "cell_type": "code",
   "execution_count": 37,
   "id": "1dc6219d",
   "metadata": {},
   "outputs": [
    {
     "name": "stdout",
     "output_type": "stream",
     "text": [
      "209330.11952089763\n"
     ]
    }
   ],
   "source": [
    "# Random Forest training\n",
    "from sklearn.ensemble import RandomForestRegressor\n",
    "\n",
    "rf = RandomForestRegressor(n_estimators=200, max_depth=8, n_jobs=-1)\n",
    "rf.fit(train_inputs, train_targets)\n",
    "\n",
    "# Random Forest evaluation\n",
    "eval_preds = rf.predict(eval_inputs)\n",
    "MSE = ((eval_preds - eval_targets) ** 2).sum() / eval_targets.shape[0]\n",
    "print(MSE)"
   ]
  },
  {
   "cell_type": "markdown",
   "id": "0da932ed",
   "metadata": {},
   "source": [
    "### Plot results"
   ]
  },
  {
   "cell_type": "code",
   "execution_count": null,
   "id": "9540bc36",
   "metadata": {},
   "outputs": [],
   "source": [
    "import matplotlib.pyplot as plt\n",
    "%matplotlib inline\n",
    "plt.rcParams[\"figure.figsize\"] = (8, 6)"
   ]
  },
  {
   "cell_type": "code",
   "execution_count": null,
   "id": "215bf575",
   "metadata": {},
   "outputs": [],
   "source": [
    "# Choose random evaluation sequence\n",
    "sample_eval_id = np.random.choice(eval_sequence_ids, size=(1,))\n",
    "sample_eval_inputs, sample_eval_targets = load_data(sample_eval_id, flatten_sequences=True)\n",
    "\n",
    "sample_eval_preds = rf.predict(sample_eval_inputs)"
   ]
  },
  {
   "cell_type": "code",
   "execution_count": null,
   "id": "82bcd355",
   "metadata": {},
   "outputs": [],
   "source": [
    "for i in range(6):\n",
    "    plt.plot(sample_eval_targets[:, i], color='C{}'.format(i), label='Target {}'.format(i))\n",
    "    plt.plot(sample_eval_preds[:, i], color='C{}'.format(i), linestyle=':', label='Prediction {}'.format(i))\n",
    "    plt.legend()"
   ]
  }
 ],
 "metadata": {
  "kernelspec": {
   "display_name": "Python 3",
   "language": "python",
   "name": "python3"
  },
  "language_info": {
   "codemirror_mode": {
    "name": "ipython",
    "version": 3
   },
   "file_extension": ".py",
   "mimetype": "text/x-python",
   "name": "python",
   "nbconvert_exporter": "python",
   "pygments_lexer": "ipython3",
   "version": "3.6.13"
  }
 },
 "nbformat": 4,
 "nbformat_minor": 5
}
